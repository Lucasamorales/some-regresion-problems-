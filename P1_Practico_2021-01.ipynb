{
 "cells": [
  {
   "cell_type": "code",
   "execution_count": null,
   "metadata": {},
   "outputs": [],
   "source": []
  },
  {
   "cell_type": "markdown",
   "metadata": {},
   "source": [
    "# PARCIAL 1 - PRÁCTICO\n",
    "# Materia: Aprendizaje Automático 1\n"
   ]
  },
  {
   "cell_type": "markdown",
   "metadata": {},
   "source": [
    "## PRIMERA PARTE  \n",
    "\n",
    "La primera parte son 3 ejercicios \"estándar\" sobre el mismo dataset.  \n",
    "\n",
    "- Puede resolverlos a continuación de su enunciado o resolver cada uno en un archivo de Jupyter por separado, si es así, indíquelo en el nombre de cada uno. \n",
    "- Sea claro con su código y lo más explícito posible. Explique todo lo que haga. \n",
    "- Destaque los resultados de las evaluaciones solicitadas.\n",
    "\n"
   ]
  },
  {
   "cell_type": "markdown",
   "metadata": {},
   "source": [
    "### Ejercicio 1\n",
    "Esta parte corresponde a un Problema de Clasificación.  \n",
    "\n",
    "Dado el dataset que se encuentra en el archivo *df1.csv* que consta de 3 variables X y la variable a pronosticar y. En este caso las etiquetas de la variable y a pronosticar son los valores 0, 1 y 2   \n",
    "\n",
    "- Crear un modelo de **árbol con hiperparámetro de profundidad 5**\n",
    "- Evaluarlo, calculando: Accuracy y F1.\n",
    "- En todos los casos que sea necesario utilice semilla aleatoria= 123 (random_state=123)\n",
    "- Utilice proporción 80% / 20% para dividir datasets."
   ]
  },
  {
   "cell_type": "markdown",
   "metadata": {
    "ExecuteTime": {
     "end_time": "2020-09-29T18:35:20.422806Z",
     "start_time": "2020-09-29T18:35:20.419813Z"
    }
   },
   "source": [
    "### Solución Ejercicio 1"
   ]
  },
  {
   "cell_type": "code",
   "execution_count": 4,
   "metadata": {},
   "outputs": [],
   "source": [
    "import pandas as pd#importamos las librerias necesarias para este ejercicio\n",
    "from sklearn.model_selection import train_test_split\n",
    "from sklearn.tree import DecisionTreeClassifier\n",
    "from sklearn.metrics import f1_score, accuracy_score "
   ]
  },
  {
   "cell_type": "code",
   "execution_count": 5,
   "metadata": {},
   "outputs": [
    {
     "data": {
      "text/html": [
       "<div>\n",
       "<style scoped>\n",
       "    .dataframe tbody tr th:only-of-type {\n",
       "        vertical-align: middle;\n",
       "    }\n",
       "\n",
       "    .dataframe tbody tr th {\n",
       "        vertical-align: top;\n",
       "    }\n",
       "\n",
       "    .dataframe thead th {\n",
       "        text-align: right;\n",
       "    }\n",
       "</style>\n",
       "<table border=\"1\" class=\"dataframe\">\n",
       "  <thead>\n",
       "    <tr style=\"text-align: right;\">\n",
       "      <th></th>\n",
       "      <th>x1</th>\n",
       "      <th>x2</th>\n",
       "      <th>x3</th>\n",
       "      <th>y</th>\n",
       "    </tr>\n",
       "  </thead>\n",
       "  <tbody>\n",
       "    <tr>\n",
       "      <th>0</th>\n",
       "      <td>1.053330</td>\n",
       "      <td>1.468244</td>\n",
       "      <td>1.200664</td>\n",
       "      <td>0</td>\n",
       "    </tr>\n",
       "    <tr>\n",
       "      <th>1</th>\n",
       "      <td>-1.182575</td>\n",
       "      <td>0.778419</td>\n",
       "      <td>-2.662955</td>\n",
       "      <td>1</td>\n",
       "    </tr>\n",
       "    <tr>\n",
       "      <th>2</th>\n",
       "      <td>-0.097641</td>\n",
       "      <td>-0.095198</td>\n",
       "      <td>1.206646</td>\n",
       "      <td>1</td>\n",
       "    </tr>\n",
       "    <tr>\n",
       "      <th>3</th>\n",
       "      <td>1.128708</td>\n",
       "      <td>-1.573814</td>\n",
       "      <td>-1.382470</td>\n",
       "      <td>2</td>\n",
       "    </tr>\n",
       "    <tr>\n",
       "      <th>4</th>\n",
       "      <td>-0.379191</td>\n",
       "      <td>-1.010483</td>\n",
       "      <td>-2.052340</td>\n",
       "      <td>0</td>\n",
       "    </tr>\n",
       "    <tr>\n",
       "      <th>...</th>\n",
       "      <td>...</td>\n",
       "      <td>...</td>\n",
       "      <td>...</td>\n",
       "      <td>...</td>\n",
       "    </tr>\n",
       "    <tr>\n",
       "      <th>995</th>\n",
       "      <td>0.448461</td>\n",
       "      <td>0.199743</td>\n",
       "      <td>-1.425727</td>\n",
       "      <td>2</td>\n",
       "    </tr>\n",
       "    <tr>\n",
       "      <th>996</th>\n",
       "      <td>2.255440</td>\n",
       "      <td>3.027694</td>\n",
       "      <td>0.012203</td>\n",
       "      <td>2</td>\n",
       "    </tr>\n",
       "    <tr>\n",
       "      <th>997</th>\n",
       "      <td>0.183863</td>\n",
       "      <td>0.085454</td>\n",
       "      <td>-0.298221</td>\n",
       "      <td>1</td>\n",
       "    </tr>\n",
       "    <tr>\n",
       "      <th>998</th>\n",
       "      <td>0.319195</td>\n",
       "      <td>0.807063</td>\n",
       "      <td>1.161177</td>\n",
       "      <td>0</td>\n",
       "    </tr>\n",
       "    <tr>\n",
       "      <th>999</th>\n",
       "      <td>-0.254988</td>\n",
       "      <td>-0.374058</td>\n",
       "      <td>0.202797</td>\n",
       "      <td>1</td>\n",
       "    </tr>\n",
       "  </tbody>\n",
       "</table>\n",
       "<p>1000 rows × 4 columns</p>\n",
       "</div>"
      ],
      "text/plain": [
       "           x1        x2        x3  y\n",
       "0    1.053330  1.468244  1.200664  0\n",
       "1   -1.182575  0.778419 -2.662955  1\n",
       "2   -0.097641 -0.095198  1.206646  1\n",
       "3    1.128708 -1.573814 -1.382470  2\n",
       "4   -0.379191 -1.010483 -2.052340  0\n",
       "..        ...       ...       ... ..\n",
       "995  0.448461  0.199743 -1.425727  2\n",
       "996  2.255440  3.027694  0.012203  2\n",
       "997  0.183863  0.085454 -0.298221  1\n",
       "998  0.319195  0.807063  1.161177  0\n",
       "999 -0.254988 -0.374058  0.202797  1\n",
       "\n",
       "[1000 rows x 4 columns]"
      ]
     },
     "execution_count": 5,
     "metadata": {},
     "output_type": "execute_result"
    }
   ],
   "source": [
    "df=pd.read_csv('df1.csv') #importamos los datos \n",
    "df #mostramos los datos "
   ]
  },
  {
   "cell_type": "code",
   "execution_count": 6,
   "metadata": {},
   "outputs": [],
   "source": [
    "df_train,df_test=train_test_split(df, test_size=0.2, random_state=123) #dividimos los datos  en train y test "
   ]
  },
  {
   "cell_type": "code",
   "execution_count": 7,
   "metadata": {},
   "outputs": [],
   "source": [
    "X_train=df_train[['x1','x2','x3']] # los pasaamos a matrices para la afacilidad de sklearn \n",
    "y_train=df_train[['y']]\n",
    "\n",
    "X_test=df_test[['x1','x2','x3']]\n",
    "y_test=df_test[['y']]"
   ]
  },
  {
   "cell_type": "code",
   "execution_count": 12,
   "metadata": {},
   "outputs": [
    {
     "name": "stdout",
     "output_type": "stream",
     "text": [
      "Evaluación modelo Árbol de Decisión\n",
      "Accuracy:  0.75\n",
      "F1:  0.753\n"
     ]
    }
   ],
   "source": [
    "# Modelo , Entrenamiento y Evaluacion :\n",
    "from sklearn.tree import DecisionTreeClassifier\n",
    "modeloAr=DecisionTreeClassifier(max_depth=5) #creamos el arbol con profundidad 4\n",
    "modeloAr.fit(X_train,y_train) #lo entrenamos \n",
    "y_predAr=modeloAr.predict(X_test) #predecimos \n",
    "\n",
    "AC=accuracy_score(y_test, y_predAr) #evaluamos accuracy\n",
    "F1=f1_score(y_test,y_predAr, average='macro')#evaluamos F1\n",
    "print(\"Evaluación modelo Árbol de Decisión\")\n",
    "print(\"Accuracy: \", round(AC,3))\n",
    "print(\"F1: \", round(F1,3))\n",
    "\n"
   ]
  },
  {
   "cell_type": "code",
   "execution_count": null,
   "metadata": {},
   "outputs": [],
   "source": []
  },
  {
   "cell_type": "code",
   "execution_count": null,
   "metadata": {},
   "outputs": [],
   "source": []
  },
  {
   "cell_type": "markdown",
   "metadata": {
    "ExecuteTime": {
     "end_time": "2020-09-29T18:25:50.445617Z",
     "start_time": "2020-09-29T18:25:50.438598Z"
    }
   },
   "source": [
    "### Ejercicio 2\n",
    "Con los mismos datos del problema anterior.  \n",
    "\n",
    "\n",
    "- Crear un modelo de kNN con hiperparámetro k=7 vecinos y **ponderación** uniforme.\n",
    "- Evaluarlo, calculando: Accuracy y F1.  \n",
    "- En todos los casos que sea necesario utilice semilla aleatoria= 123 (random_state=123)  \n",
    "- Utilice proporción 80% / 20% para dividir datasets.  \n"
   ]
  },
  {
   "cell_type": "code",
   "execution_count": 21,
   "metadata": {},
   "outputs": [],
   "source": [
    "import pandas as pd #importamos las librerias necesarias para este ejercicio\n",
    "from sklearn.model_selection import train_test_split\n",
    "from sklearn import neighbors\n",
    "from sklearn.metrics import f1_score, accuracy_score "
   ]
  },
  {
   "cell_type": "code",
   "execution_count": 22,
   "metadata": {},
   "outputs": [
    {
     "data": {
      "text/html": [
       "<div>\n",
       "<style scoped>\n",
       "    .dataframe tbody tr th:only-of-type {\n",
       "        vertical-align: middle;\n",
       "    }\n",
       "\n",
       "    .dataframe tbody tr th {\n",
       "        vertical-align: top;\n",
       "    }\n",
       "\n",
       "    .dataframe thead th {\n",
       "        text-align: right;\n",
       "    }\n",
       "</style>\n",
       "<table border=\"1\" class=\"dataframe\">\n",
       "  <thead>\n",
       "    <tr style=\"text-align: right;\">\n",
       "      <th></th>\n",
       "      <th>x1</th>\n",
       "      <th>x2</th>\n",
       "      <th>x3</th>\n",
       "      <th>y</th>\n",
       "    </tr>\n",
       "  </thead>\n",
       "  <tbody>\n",
       "    <tr>\n",
       "      <th>0</th>\n",
       "      <td>1.053330</td>\n",
       "      <td>1.468244</td>\n",
       "      <td>1.200664</td>\n",
       "      <td>0</td>\n",
       "    </tr>\n",
       "    <tr>\n",
       "      <th>1</th>\n",
       "      <td>-1.182575</td>\n",
       "      <td>0.778419</td>\n",
       "      <td>-2.662955</td>\n",
       "      <td>1</td>\n",
       "    </tr>\n",
       "    <tr>\n",
       "      <th>2</th>\n",
       "      <td>-0.097641</td>\n",
       "      <td>-0.095198</td>\n",
       "      <td>1.206646</td>\n",
       "      <td>1</td>\n",
       "    </tr>\n",
       "    <tr>\n",
       "      <th>3</th>\n",
       "      <td>1.128708</td>\n",
       "      <td>-1.573814</td>\n",
       "      <td>-1.382470</td>\n",
       "      <td>2</td>\n",
       "    </tr>\n",
       "    <tr>\n",
       "      <th>4</th>\n",
       "      <td>-0.379191</td>\n",
       "      <td>-1.010483</td>\n",
       "      <td>-2.052340</td>\n",
       "      <td>0</td>\n",
       "    </tr>\n",
       "    <tr>\n",
       "      <th>...</th>\n",
       "      <td>...</td>\n",
       "      <td>...</td>\n",
       "      <td>...</td>\n",
       "      <td>...</td>\n",
       "    </tr>\n",
       "    <tr>\n",
       "      <th>995</th>\n",
       "      <td>0.448461</td>\n",
       "      <td>0.199743</td>\n",
       "      <td>-1.425727</td>\n",
       "      <td>2</td>\n",
       "    </tr>\n",
       "    <tr>\n",
       "      <th>996</th>\n",
       "      <td>2.255440</td>\n",
       "      <td>3.027694</td>\n",
       "      <td>0.012203</td>\n",
       "      <td>2</td>\n",
       "    </tr>\n",
       "    <tr>\n",
       "      <th>997</th>\n",
       "      <td>0.183863</td>\n",
       "      <td>0.085454</td>\n",
       "      <td>-0.298221</td>\n",
       "      <td>1</td>\n",
       "    </tr>\n",
       "    <tr>\n",
       "      <th>998</th>\n",
       "      <td>0.319195</td>\n",
       "      <td>0.807063</td>\n",
       "      <td>1.161177</td>\n",
       "      <td>0</td>\n",
       "    </tr>\n",
       "    <tr>\n",
       "      <th>999</th>\n",
       "      <td>-0.254988</td>\n",
       "      <td>-0.374058</td>\n",
       "      <td>0.202797</td>\n",
       "      <td>1</td>\n",
       "    </tr>\n",
       "  </tbody>\n",
       "</table>\n",
       "<p>1000 rows × 4 columns</p>\n",
       "</div>"
      ],
      "text/plain": [
       "           x1        x2        x3  y\n",
       "0    1.053330  1.468244  1.200664  0\n",
       "1   -1.182575  0.778419 -2.662955  1\n",
       "2   -0.097641 -0.095198  1.206646  1\n",
       "3    1.128708 -1.573814 -1.382470  2\n",
       "4   -0.379191 -1.010483 -2.052340  0\n",
       "..        ...       ...       ... ..\n",
       "995  0.448461  0.199743 -1.425727  2\n",
       "996  2.255440  3.027694  0.012203  2\n",
       "997  0.183863  0.085454 -0.298221  1\n",
       "998  0.319195  0.807063  1.161177  0\n",
       "999 -0.254988 -0.374058  0.202797  1\n",
       "\n",
       "[1000 rows x 4 columns]"
      ]
     },
     "execution_count": 22,
     "metadata": {},
     "output_type": "execute_result"
    }
   ],
   "source": [
    "df_knn=pd.read_csv('df1.csv')\n",
    "df"
   ]
  },
  {
   "cell_type": "code",
   "execution_count": 23,
   "metadata": {},
   "outputs": [],
   "source": [
    "df_knn_train,df_knn_test=train_test_split(df, test_size=0.2, random_state=123) #dividimos los datos  en train y test "
   ]
  },
  {
   "cell_type": "code",
   "execution_count": 24,
   "metadata": {},
   "outputs": [],
   "source": [
    "X_train=df_knn_train[['x1','x2','x3']] # los pasaamos a matrices para la afacilidad de sklearn \n",
    "y_train=df_knn_train[['y']]\n",
    "\n",
    "X_test=df_knn_test[['x1','x2','x3']]\n",
    "y_test=df_knn_test[['y']]"
   ]
  },
  {
   "cell_type": "code",
   "execution_count": 28,
   "metadata": {},
   "outputs": [
    {
     "name": "stdout",
     "output_type": "stream",
     "text": [
      "Evaluación modelo Árbol de Decisión\n",
      "Accuracy:  0.87\n",
      "F1:  0.871\n"
     ]
    },
    {
     "name": "stderr",
     "output_type": "stream",
     "text": [
      "<ipython-input-28-023178702dbd>:2: DataConversionWarning: A column-vector y was passed when a 1d array was expected. Please change the shape of y to (n_samples, ), for example using ravel().\n",
      "  modelokNN.fit(X_train, y_train)\n"
     ]
    }
   ],
   "source": [
    "# Modelo , Entrenamiento y Evaluacion :\n",
    "modelokNN = neighbors.KNeighborsClassifier(n_neighbors=7,weights='uniform')\n",
    "modelokNN.fit(X_train, y_train)\n",
    "y_pred=modelokNN.predict(X_test)\n",
    "ACkNN=accuracy_score(y_test, y_pred)\n",
    "F1kNN=f1_score(y_test,y_pred, average='macro')\n",
    "print(\"Evaluación modelo Árbol de Decisión\")\n",
    "print(\"Accuracy: \", round(ACkNN,3))\n",
    "print(\"F1: \", round(F1kNN,3))\n",
    "        "
   ]
  },
  {
   "cell_type": "markdown",
   "metadata": {
    "ExecuteTime": {
     "end_time": "2020-09-29T18:35:47.798612Z",
     "start_time": "2020-09-29T18:35:47.794622Z"
    }
   },
   "source": [
    "### Solución Ejercicio 2"
   ]
  },
  {
   "cell_type": "markdown",
   "metadata": {},
   "source": [
    "### Ejercicio 3\n",
    "Con los mismos datos del problema anterior.  \n",
    "\n",
    "\n",
    "- Crear un modelo de kNN con hiperparámetro k=7 vecinos y **ponderando** según la  distancia.\n",
    "- Evaluarlo, calculando: Accuracy y F1.\n",
    "- Utilice proporción 80% / 20% para dividir datasets."
   ]
  },
  {
   "cell_type": "markdown",
   "metadata": {
    "ExecuteTime": {
     "end_time": "2020-09-29T18:35:40.097934Z",
     "start_time": "2020-09-29T18:35:40.093955Z"
    }
   },
   "source": [
    "### Solución Ejercicio 3"
   ]
  },
  {
   "cell_type": "code",
   "execution_count": null,
   "metadata": {},
   "outputs": [],
   "source": [
    "import pandas as pd #importamos las librerias necesarias para este ejercicio\n",
    "from sklearn.model_selection import train_test_split\n",
    "from sklearn import neighbors\n",
    "from sklearn.metrics import f1_score, accuracy_score "
   ]
  },
  {
   "cell_type": "code",
   "execution_count": 29,
   "metadata": {},
   "outputs": [
    {
     "data": {
      "text/html": [
       "<div>\n",
       "<style scoped>\n",
       "    .dataframe tbody tr th:only-of-type {\n",
       "        vertical-align: middle;\n",
       "    }\n",
       "\n",
       "    .dataframe tbody tr th {\n",
       "        vertical-align: top;\n",
       "    }\n",
       "\n",
       "    .dataframe thead th {\n",
       "        text-align: right;\n",
       "    }\n",
       "</style>\n",
       "<table border=\"1\" class=\"dataframe\">\n",
       "  <thead>\n",
       "    <tr style=\"text-align: right;\">\n",
       "      <th></th>\n",
       "      <th>x1</th>\n",
       "      <th>x2</th>\n",
       "      <th>x3</th>\n",
       "      <th>y</th>\n",
       "    </tr>\n",
       "  </thead>\n",
       "  <tbody>\n",
       "    <tr>\n",
       "      <th>0</th>\n",
       "      <td>1.053330</td>\n",
       "      <td>1.468244</td>\n",
       "      <td>1.200664</td>\n",
       "      <td>0</td>\n",
       "    </tr>\n",
       "    <tr>\n",
       "      <th>1</th>\n",
       "      <td>-1.182575</td>\n",
       "      <td>0.778419</td>\n",
       "      <td>-2.662955</td>\n",
       "      <td>1</td>\n",
       "    </tr>\n",
       "    <tr>\n",
       "      <th>2</th>\n",
       "      <td>-0.097641</td>\n",
       "      <td>-0.095198</td>\n",
       "      <td>1.206646</td>\n",
       "      <td>1</td>\n",
       "    </tr>\n",
       "    <tr>\n",
       "      <th>3</th>\n",
       "      <td>1.128708</td>\n",
       "      <td>-1.573814</td>\n",
       "      <td>-1.382470</td>\n",
       "      <td>2</td>\n",
       "    </tr>\n",
       "    <tr>\n",
       "      <th>4</th>\n",
       "      <td>-0.379191</td>\n",
       "      <td>-1.010483</td>\n",
       "      <td>-2.052340</td>\n",
       "      <td>0</td>\n",
       "    </tr>\n",
       "    <tr>\n",
       "      <th>...</th>\n",
       "      <td>...</td>\n",
       "      <td>...</td>\n",
       "      <td>...</td>\n",
       "      <td>...</td>\n",
       "    </tr>\n",
       "    <tr>\n",
       "      <th>995</th>\n",
       "      <td>0.448461</td>\n",
       "      <td>0.199743</td>\n",
       "      <td>-1.425727</td>\n",
       "      <td>2</td>\n",
       "    </tr>\n",
       "    <tr>\n",
       "      <th>996</th>\n",
       "      <td>2.255440</td>\n",
       "      <td>3.027694</td>\n",
       "      <td>0.012203</td>\n",
       "      <td>2</td>\n",
       "    </tr>\n",
       "    <tr>\n",
       "      <th>997</th>\n",
       "      <td>0.183863</td>\n",
       "      <td>0.085454</td>\n",
       "      <td>-0.298221</td>\n",
       "      <td>1</td>\n",
       "    </tr>\n",
       "    <tr>\n",
       "      <th>998</th>\n",
       "      <td>0.319195</td>\n",
       "      <td>0.807063</td>\n",
       "      <td>1.161177</td>\n",
       "      <td>0</td>\n",
       "    </tr>\n",
       "    <tr>\n",
       "      <th>999</th>\n",
       "      <td>-0.254988</td>\n",
       "      <td>-0.374058</td>\n",
       "      <td>0.202797</td>\n",
       "      <td>1</td>\n",
       "    </tr>\n",
       "  </tbody>\n",
       "</table>\n",
       "<p>1000 rows × 4 columns</p>\n",
       "</div>"
      ],
      "text/plain": [
       "           x1        x2        x3  y\n",
       "0    1.053330  1.468244  1.200664  0\n",
       "1   -1.182575  0.778419 -2.662955  1\n",
       "2   -0.097641 -0.095198  1.206646  1\n",
       "3    1.128708 -1.573814 -1.382470  2\n",
       "4   -0.379191 -1.010483 -2.052340  0\n",
       "..        ...       ...       ... ..\n",
       "995  0.448461  0.199743 -1.425727  2\n",
       "996  2.255440  3.027694  0.012203  2\n",
       "997  0.183863  0.085454 -0.298221  1\n",
       "998  0.319195  0.807063  1.161177  0\n",
       "999 -0.254988 -0.374058  0.202797  1\n",
       "\n",
       "[1000 rows x 4 columns]"
      ]
     },
     "execution_count": 29,
     "metadata": {},
     "output_type": "execute_result"
    }
   ],
   "source": [
    "df_knn=pd.read_csv('df1.csv')\n",
    "df"
   ]
  },
  {
   "cell_type": "code",
   "execution_count": 30,
   "metadata": {},
   "outputs": [],
   "source": [
    "df_knn_train,df_knn_test=train_test_split(df, test_size=0.2, random_state=123) #dividimos los datos  en train y test "
   ]
  },
  {
   "cell_type": "code",
   "execution_count": 31,
   "metadata": {},
   "outputs": [],
   "source": [
    "X_train=df_knn_train[['x1','x2','x3']] # los pasaamos a matrices para la afacilidad de sklearn \n",
    "y_train=df_knn_train[['y']]\n",
    "\n",
    "X_test=df_knn_test[['x1','x2','x3']]\n",
    "y_test=df_knn_test[['y']]"
   ]
  },
  {
   "cell_type": "code",
   "execution_count": 32,
   "metadata": {},
   "outputs": [
    {
     "name": "stdout",
     "output_type": "stream",
     "text": [
      "Evaluación modelo Árbol de Decisión\n",
      "Accuracy:  0.885\n",
      "F1:  0.886\n"
     ]
    },
    {
     "name": "stderr",
     "output_type": "stream",
     "text": [
      "<ipython-input-32-ed5faa388526>:3: DataConversionWarning: A column-vector y was passed when a 1d array was expected. Please change the shape of y to (n_samples, ), for example using ravel().\n",
      "  modelokNN.fit(X_train, y_train)\n"
     ]
    }
   ],
   "source": [
    "# Modelo , Entrenamiento y Evaluacion :\n",
    "modelokNN = neighbors.KNeighborsClassifier(n_neighbors=7,weights='distance')\n",
    "modelokNN.fit(X_train, y_train)\n",
    "y_pred=modelokNN.predict(X_test)\n",
    "ACkNN=accuracy_score(y_test, y_pred)\n",
    "F1kNN=f1_score(y_test,y_pred, average='macro')\n",
    "print(\"Evaluación modelo Árbol de Decisión\")\n",
    "print(\"Accuracy: \", round(ACkNN,3))\n",
    "print(\"F1: \", round(F1kNN,3))\n",
    "        "
   ]
  },
  {
   "cell_type": "markdown",
   "metadata": {},
   "source": [
    "## SEGUNDA PARTE"
   ]
  },
  {
   "cell_type": "markdown",
   "metadata": {},
   "source": [
    "### Consigna:\n",
    "\n",
    "- Posiblemente este ejercicio le convenga hacerlo en otro archivo de Jupyter porque va a ser largo. No se olvide que dispone de mucho tiempo para hacerlo.   \n",
    "\n",
    "- Sea lo más claro posible con sus códigos, si es necesario explique lo que está haciendo.  \n",
    "\n",
    "\n",
    "> En este caso va a tener que **seleccionar** el mejor modelo que resuelva un problema de Regresión en base a los datos provistos en el archivo *df_alumno.csv* , deberá probar con todos los modelos que hemos visto y sus correspondientes hiperparámetros. También deberá generar el modelo para producción. Deberá elegir qué modelo funciona mejor evaluando con el RMSE.   \n",
    "\n",
    "> Una vez que tenga el modelo de producción deberá pronosticar los valores de y para las observaciones contenidas en el archivo *df_X_reales.csv*. Deberá llamar a los valores pronosticados con el nombre ypred.\n",
    "\n",
    "\n",
    "- Una vez que Ud pronostique los valores de ypred deberá guardarlos en un archivo csv con su Apellido y Nombre, por ejemplo: *Perez_Juan.csv*  para que yo le pueda calcular luego el RMSE con los valores de y_reales que están en mi poder. Este archivo debe contener sólo la columna ypred.\n",
    "\n",
    "A trabajar!\n",
    "\n"
   ]
  },
  {
   "cell_type": "code",
   "execution_count": null,
   "metadata": {},
   "outputs": [],
   "source": []
  },
  {
   "cell_type": "code",
   "execution_count": null,
   "metadata": {},
   "outputs": [],
   "source": []
  }
 ],
 "metadata": {
  "hide_input": false,
  "kernelspec": {
   "display_name": "Python 3",
   "language": "python",
   "name": "python3"
  },
  "language_info": {
   "codemirror_mode": {
    "name": "ipython",
    "version": 3
   },
   "file_extension": ".py",
   "mimetype": "text/x-python",
   "name": "python",
   "nbconvert_exporter": "python",
   "pygments_lexer": "ipython3",
   "version": "3.8.5"
  },
  "toc": {
   "base_numbering": 1,
   "nav_menu": {},
   "number_sections": true,
   "sideBar": true,
   "skip_h1_title": true,
   "title_cell": "Tabla de Contenidos",
   "title_sidebar": "Contenidos",
   "toc_cell": false,
   "toc_position": {
    "height": "calc(100% - 180px)",
    "left": "10px",
    "top": "150px",
    "width": "165px"
   },
   "toc_section_display": true,
   "toc_window_display": true
  },
  "varInspector": {
   "cols": {
    "lenName": 16,
    "lenType": 16,
    "lenVar": 40
   },
   "kernels_config": {
    "python": {
     "delete_cmd_postfix": "",
     "delete_cmd_prefix": "del ",
     "library": "var_list.py",
     "varRefreshCmd": "print(var_dic_list())"
    },
    "r": {
     "delete_cmd_postfix": ") ",
     "delete_cmd_prefix": "rm(",
     "library": "var_list.r",
     "varRefreshCmd": "cat(var_dic_list()) "
    }
   },
   "types_to_exclude": [
    "module",
    "function",
    "builtin_function_or_method",
    "instance",
    "_Feature"
   ],
   "window_display": false
  }
 },
 "nbformat": 4,
 "nbformat_minor": 4
}
