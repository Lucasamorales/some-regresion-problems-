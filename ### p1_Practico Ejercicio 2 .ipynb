{
 "cells": [
  {
   "cell_type": "markdown",
   "metadata": {},
   "source": [
    "### p1_Practico Ejercicio 2 \n",
    "#### Alumno: Lucas Morales "
   ]
  },
  {
   "cell_type": "code",
   "execution_count": 2,
   "metadata": {},
   "outputs": [],
   "source": [
    "import pandas as pd\n",
    "import numpy as np\n",
    "from sklearn.model_selection import train_test_split\n",
    "\n",
    "#importamos los modelos:\n",
    "from sklearn import linear_model\n",
    "from sklearn import neighbors\n",
    "from sklearn.tree import DecisionTreeRegressor\n",
    "\n",
    "from sklearn.metrics import mean_squared_error, r2_score"
   ]
  },
  {
   "cell_type": "markdown",
   "metadata": {},
   "source": [
    "### Datos"
   ]
  },
  {
   "cell_type": "code",
   "execution_count": 3,
   "metadata": {},
   "outputs": [
    {
     "data": {
      "text/html": [
       "<div>\n",
       "<style scoped>\n",
       "    .dataframe tbody tr th:only-of-type {\n",
       "        vertical-align: middle;\n",
       "    }\n",
       "\n",
       "    .dataframe tbody tr th {\n",
       "        vertical-align: top;\n",
       "    }\n",
       "\n",
       "    .dataframe thead th {\n",
       "        text-align: right;\n",
       "    }\n",
       "</style>\n",
       "<table border=\"1\" class=\"dataframe\">\n",
       "  <thead>\n",
       "    <tr style=\"text-align: right;\">\n",
       "      <th></th>\n",
       "      <th>x1</th>\n",
       "      <th>x2</th>\n",
       "      <th>x3</th>\n",
       "      <th>x4</th>\n",
       "      <th>y</th>\n",
       "    </tr>\n",
       "  </thead>\n",
       "  <tbody>\n",
       "    <tr>\n",
       "      <th>0</th>\n",
       "      <td>0.416124</td>\n",
       "      <td>-0.132801</td>\n",
       "      <td>-1.701496</td>\n",
       "      <td>-0.238565</td>\n",
       "      <td>-143.435812</td>\n",
       "    </tr>\n",
       "    <tr>\n",
       "      <th>1</th>\n",
       "      <td>-0.355414</td>\n",
       "      <td>-1.184877</td>\n",
       "      <td>-0.696990</td>\n",
       "      <td>-1.101422</td>\n",
       "      <td>-122.538673</td>\n",
       "    </tr>\n",
       "    <tr>\n",
       "      <th>2</th>\n",
       "      <td>2.261787</td>\n",
       "      <td>1.125440</td>\n",
       "      <td>-0.170084</td>\n",
       "      <td>0.184930</td>\n",
       "      <td>51.092290</td>\n",
       "    </tr>\n",
       "    <tr>\n",
       "      <th>3</th>\n",
       "      <td>0.511043</td>\n",
       "      <td>-0.214256</td>\n",
       "      <td>0.169691</td>\n",
       "      <td>-0.695636</td>\n",
       "      <td>-5.438611</td>\n",
       "    </tr>\n",
       "    <tr>\n",
       "      <th>4</th>\n",
       "      <td>0.092654</td>\n",
       "      <td>0.876131</td>\n",
       "      <td>1.746120</td>\n",
       "      <td>0.867554</td>\n",
       "      <td>190.830139</td>\n",
       "    </tr>\n",
       "    <tr>\n",
       "      <th>...</th>\n",
       "      <td>...</td>\n",
       "      <td>...</td>\n",
       "      <td>...</td>\n",
       "      <td>...</td>\n",
       "      <td>...</td>\n",
       "    </tr>\n",
       "    <tr>\n",
       "      <th>795</th>\n",
       "      <td>0.340486</td>\n",
       "      <td>0.305451</td>\n",
       "      <td>1.099399</td>\n",
       "      <td>-0.282413</td>\n",
       "      <td>91.377042</td>\n",
       "    </tr>\n",
       "    <tr>\n",
       "      <th>796</th>\n",
       "      <td>1.689880</td>\n",
       "      <td>-0.262399</td>\n",
       "      <td>-0.955471</td>\n",
       "      <td>0.553504</td>\n",
       "      <td>-33.030237</td>\n",
       "    </tr>\n",
       "    <tr>\n",
       "      <th>797</th>\n",
       "      <td>-0.135982</td>\n",
       "      <td>-0.805562</td>\n",
       "      <td>1.474405</td>\n",
       "      <td>-0.523860</td>\n",
       "      <td>87.061835</td>\n",
       "    </tr>\n",
       "    <tr>\n",
       "      <th>798</th>\n",
       "      <td>-0.294396</td>\n",
       "      <td>-0.860427</td>\n",
       "      <td>-0.371780</td>\n",
       "      <td>0.159412</td>\n",
       "      <td>-44.088839</td>\n",
       "    </tr>\n",
       "    <tr>\n",
       "      <th>799</th>\n",
       "      <td>1.815652</td>\n",
       "      <td>-0.252750</td>\n",
       "      <td>0.551302</td>\n",
       "      <td>0.419589</td>\n",
       "      <td>88.606428</td>\n",
       "    </tr>\n",
       "  </tbody>\n",
       "</table>\n",
       "<p>800 rows × 5 columns</p>\n",
       "</div>"
      ],
      "text/plain": [
       "           x1        x2        x3        x4           y\n",
       "0    0.416124 -0.132801 -1.701496 -0.238565 -143.435812\n",
       "1   -0.355414 -1.184877 -0.696990 -1.101422 -122.538673\n",
       "2    2.261787  1.125440 -0.170084  0.184930   51.092290\n",
       "3    0.511043 -0.214256  0.169691 -0.695636   -5.438611\n",
       "4    0.092654  0.876131  1.746120  0.867554  190.830139\n",
       "..        ...       ...       ...       ...         ...\n",
       "795  0.340486  0.305451  1.099399 -0.282413   91.377042\n",
       "796  1.689880 -0.262399 -0.955471  0.553504  -33.030237\n",
       "797 -0.135982 -0.805562  1.474405 -0.523860   87.061835\n",
       "798 -0.294396 -0.860427 -0.371780  0.159412  -44.088839\n",
       "799  1.815652 -0.252750  0.551302  0.419589   88.606428\n",
       "\n",
       "[800 rows x 5 columns]"
      ]
     },
     "execution_count": 3,
     "metadata": {},
     "output_type": "execute_result"
    }
   ],
   "source": [
    "df=pd.read_csv('df_alumno.csv')\n",
    "df"
   ]
  },
  {
   "cell_type": "markdown",
   "metadata": {},
   "source": [
    "### Dividimos en Train y test"
   ]
  },
  {
   "cell_type": "code",
   "execution_count": 4,
   "metadata": {},
   "outputs": [],
   "source": [
    "X=df[['x1','x2','x3','x4']]\n",
    "Y=df[['y']]"
   ]
  },
  {
   "cell_type": "code",
   "execution_count": 5,
   "metadata": {},
   "outputs": [],
   "source": [
    "X_train, X_test, Y_train, Y_test = train_test_split(X,Y,test_size=0.2,random_state=123)"
   ]
  },
  {
   "cell_type": "markdown",
   "metadata": {},
   "source": [
    "### ahora dividimos nuevamente para obtener los Validation train y Validation Test respectivamente"
   ]
  },
  {
   "cell_type": "code",
   "execution_count": 6,
   "metadata": {},
   "outputs": [],
   "source": [
    "X_val_train, X_val_test, Y_val_train, Y_val_test = train_test_split(X_train,Y_train,test_size=0.2,random_state=123)"
   ]
  },
  {
   "cell_type": "markdown",
   "metadata": {},
   "source": [
    "### Seleccion de modelos e hiperparámetros :"
   ]
  },
  {
   "cell_type": "markdown",
   "metadata": {},
   "source": [
    "#### Regresion Lineal: "
   ]
  },
  {
   "cell_type": "code",
   "execution_count": 7,
   "metadata": {
    "scrolled": true
   },
   "outputs": [
    {
     "name": "stdout",
     "output_type": "stream",
     "text": [
      "EVALUACIÓN del modelo de Regresión Lineal: \n",
      "Coeficiente de Determinación R2:  1.0\n",
      "MSE:  0.0\n",
      "RMSE:  0.0\n"
     ]
    }
   ],
   "source": [
    "modeloRlin = linear_model.LinearRegression(fit_intercept=True)\n",
    "modeloRlin.fit(X_val_train,Y_val_train)\n",
    "Y_val_pred=modeloRlin.predict(X_val_test)\n",
    "\n",
    "\n",
    "print(\"EVALUACIÓN del modelo de Regresión Lineal: \")\n",
    "print(\"Coeficiente de Determinación R2: \",round(modeloRlin.score(X_val_test,Y_val_test),3)) # evaluamos el modelo\n",
    "Y_val_pred = modeloRlin.predict(X_val_test)\n",
    "MSE=mean_squared_error(Y_val_test, Y_val_pred)\n",
    "print(\"MSE: \",round(MSE,3))\n",
    "RMSE=mean_squared_error(Y_val_test,Y_val_pred,squared=False)\n",
    "print(\"RMSE: \",round(RMSE,3))"
   ]
  },
  {
   "cell_type": "markdown",
   "metadata": {},
   "source": [
    "#### kNN:\n"
   ]
  },
  {
   "cell_type": "code",
   "execution_count": 8,
   "metadata": {},
   "outputs": [],
   "source": [
    "k_valores=np.arange(1,3,1)"
   ]
  },
  {
   "cell_type": "code",
   "execution_count": 27,
   "metadata": {},
   "outputs": [
    {
     "name": "stdout",
     "output_type": "stream",
     "text": [
      "Valor de k:  2\n",
      "Coeficiente de Determinación R2:  0.91\n",
      "MSE:  791.743\n",
      "RMSE:  28.138\n"
     ]
    }
   ],
   "source": [
    "k_max=0\n",
    "MSEkNN_max=0\n",
    "RMSEkNN_max=0\n",
    "R2_max=0\n",
    "for k in k_valores:\n",
    "    modelokNN = neighbors.KNeighborsRegressor(n_neighbors=k, weights='uniform')\n",
    "    modelokNN.fit(X_val_train, Y_val_train)\n",
    "    Y_val_pred=modelokNN.predict(X_val_test)\n",
    "    r2=modelokNN.score(X_val_test,Y_val_test)\n",
    "    MSEkNN=mean_squared_error(Y_val_test, Y_val_pred)\n",
    "    RMSEkNN=mean_squared_error(Y_val_test,Y_val_pred,squared=False)\n",
    "    \n",
    "    if r2>R2_max:\n",
    "        k_max=k\n",
    "        R2_max=r2\n",
    "        RMSEkNN_max=RMSEkNN\n",
    "        MSEkNN_max=MSEkNN\n",
    "print('Valor de k: ', k_max)\n",
    "print(\"Coeficiente de Determinación R2: \",round(R2_max,3))\n",
    "print(\"MSE: \",round(MSEkNN_max,3))\n",
    "print(\"RMSE: \",round(RMSEkNN_max,3))\n",
    "\n"
   ]
  },
  {
   "cell_type": "markdown",
   "metadata": {},
   "source": [
    "#### Arbol:"
   ]
  },
  {
   "cell_type": "code",
   "execution_count": 29,
   "metadata": {},
   "outputs": [
    {
     "name": "stdout",
     "output_type": "stream",
     "text": [
      "profundidad del arbol:  9\n",
      "Coeficiente de Determinación R2:  0.916\n",
      "MSE:  740.973\n",
      "RMSE:  27.221\n"
     ]
    }
   ],
   "source": [
    "profundidades=np.arange(1,200,1)\n",
    "p_Max=0\n",
    "MSEAr_max=0\n",
    "RMSEAr_max=0\n",
    "R2Ar_max=0\n",
    "\n",
    "for p in profundidades: \n",
    "    modeloAr=DecisionTreeRegressor(max_depth=p, random_state=123)        #Creamos el modelo con profundidad p\n",
    "    modeloAr.fit(X_val_train, Y_val_train)              # Lo entrenamos\n",
    "    Y_val_pred = modeloAr.predict(X_val_test) \n",
    "    r2Ar=modeloAr.score(X_val_test,Y_val_test)\n",
    "    MSEAr=mean_squared_error(Y_val_test, Y_val_pred)\n",
    "    RMSEAr=mean_squared_error(Y_val_test,Y_val_pred,squared=False)\n",
    "    \n",
    "    if r2Ar>R2Ar_max:\n",
    "        p_Max=p\n",
    "        R2Ar_max=r2Ar\n",
    "        RMSEAr_max=RMSEAr\n",
    "        MSEAr_max=MSEAr\n",
    "print('profundidad del arbol: ', p_Max)\n",
    "print(\"Coeficiente de Determinación R2: \",round(R2Ar_max,3))\n",
    "print(\"MSE: \",round(MSEAr_max,3))\n",
    "print(\"RMSE: \",round(RMSEAr_max,3))\n"
   ]
  },
  {
   "cell_type": "markdown",
   "metadata": {},
   "source": [
    "como podemos ver el modelo que nos dio mejor fue el de Regresion Lineal asi que utilizaremos ese:\n"
   ]
  },
  {
   "cell_type": "markdown",
   "metadata": {},
   "source": [
    "### Evaluacion Del Modelo seleccionado \n"
   ]
  },
  {
   "cell_type": "code",
   "execution_count": 143,
   "metadata": {},
   "outputs": [
    {
     "name": "stdout",
     "output_type": "stream",
     "text": [
      "EVALUACIÓN del modelo de Regresión Lineal: \n",
      "Coeficiente de Determinación R2:  1.0\n",
      "MSE:  0.0\n",
      "RMSE:  0.0\n"
     ]
    }
   ],
   "source": [
    "modeloRlin = linear_model.LinearRegression(fit_intercept=True)\n",
    "modeloRlin.fit(X_train,Y_train)\n",
    "Y_val_pred=modeloRlin.predict(X_test)\n",
    "\n",
    "\n",
    "print(\"EVALUACIÓN del modelo de Regresión Lineal: \")\n",
    "print(\"Coeficiente de Determinación R2: \",round(modeloRlin.score(X_test,Y_test),3)) # evaluamos el modelo\n",
    "Y_pred = modeloRlin.predict(X_test)\n",
    "MSE=mean_squared_error(Y_test, Y_pred)\n",
    "print(\"MSE: \",round(MSE,3))\n",
    "RMSE=mean_squared_error(Y_test,Y_pred,squared=False)\n",
    "print(\"RMSE: \",round(RMSE,3))"
   ]
  },
  {
   "cell_type": "markdown",
   "metadata": {},
   "source": [
    "### Produccion:\n"
   ]
  },
  {
   "cell_type": "code",
   "execution_count": 145,
   "metadata": {},
   "outputs": [
    {
     "data": {
      "text/plain": [
       "LinearRegression()"
      ]
     },
     "execution_count": 145,
     "metadata": {},
     "output_type": "execute_result"
    }
   ],
   "source": [
    "modelo_produccion=linear_model.LinearRegression(fit_intercept=True)\n",
    "modelo_produccion.fit(X,Y)"
   ]
  },
  {
   "cell_type": "code",
   "execution_count": 146,
   "metadata": {},
   "outputs": [],
   "source": [
    "import pickle \n",
    "nombre_archivo='P1_ejercicio2_modelo.sav'\n",
    "\n",
    "pickle.dump(modelo_produccion, open (nombre_archivo,'wb'))"
   ]
  },
  {
   "cell_type": "code",
   "execution_count": null,
   "metadata": {},
   "outputs": [],
   "source": []
  }
 ],
 "metadata": {
  "kernelspec": {
   "display_name": "Python 3",
   "language": "python",
   "name": "python3"
  },
  "language_info": {
   "codemirror_mode": {
    "name": "ipython",
    "version": 3
   },
   "file_extension": ".py",
   "mimetype": "text/x-python",
   "name": "python",
   "nbconvert_exporter": "python",
   "pygments_lexer": "ipython3",
   "version": "3.8.5"
  }
 },
 "nbformat": 4,
 "nbformat_minor": 4
}
